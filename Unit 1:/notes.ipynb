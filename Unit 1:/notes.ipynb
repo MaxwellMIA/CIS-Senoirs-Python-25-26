{
 "cells": [
  {
   "cell_type": "markdown",
   "id": "65411a5e",
   "metadata": {},
   "source": [
    "## Working with python variables"
   ]
  },
  {
   "cell_type": "markdown",
   "id": "b00ee7b8",
   "metadata": {},
   "source": [
    "structer of creating a var\n",
    "[var name] [assigment operator] [var value]\n",
    "myVar = \"value\"\n",
    "\n",
    "### What are the data types in python\n",
    "1. Integers - whole numbers\n",
    "2. Strings - anything inside \"\" ''\n",
    "3. Booleans - true false\n",
    "4. Floats - any number with decamal\n"
   ]
  },
  {
   "cell_type": "code",
   "execution_count": 2,
   "id": "298ed94d",
   "metadata": {},
   "outputs": [
    {
     "name": "stdout",
     "output_type": "stream",
     "text": [
      "3.9\n",
      "3.9\n"
     ]
    }
   ],
   "source": [
    "# Variable reassignment\n",
    "\n",
    "# a student GPA throught highschool\n",
    "student_gpa = 3.2 #freshmen year\n",
    "student_gpa = 3.4 #sophomre year\n",
    "student_gpa = 3.7 #junior year\n",
    "student_gpa = 3.9 #senior year\n",
    "print(student_gpa)\n",
    "#output 3.9\n",
    "\n",
    "#if you need to store all data\n",
    "student_gpa_fr = 3.2 #freshmen year\n",
    "student_gpa_so = 3.4 #sophomre year\n",
    "student_gpa_ju = 3.7 #junior year\n",
    "student_gpa_se = 3.9 #senior year\n",
    "print(student_gpa)"
   ]
  },
  {
   "cell_type": "code",
   "execution_count": 3,
   "id": "e75a384b",
   "metadata": {},
   "outputs": [
    {
     "name": "stdout",
     "output_type": "stream",
     "text": [
      "True\n"
     ]
    }
   ],
   "source": [
    "# sports team statistics\n",
    "\n",
    "# basketball team variables\n",
    "team_name = \"Riverside Ravens\"\n",
    "wins = 18\n",
    "loses = 7\n",
    "points_scored = 1456\n",
    "points_allowed = 1298\n",
    "leading_scorer = \"Jordan Thompson\"\n",
    "average_points_per_game = 58.2\n",
    "championship_contender = True\n",
    "print(championship_contender)"
   ]
  },
  {
   "cell_type": "code",
   "execution_count": null,
   "id": "0e10986a",
   "metadata": {},
   "outputs": [],
   "source": [
    "# the imput function\n",
    "\n",
    "# input(\"Enter your first name: \")\n",
    "\n",
    "first_name = input(\"Enter your first name: \")"
   ]
  },
  {
   "cell_type": "markdown",
   "id": "c4ae0078",
   "metadata": {},
   "source": [
    "## 4 main computational process\n",
    "- input\n",
    "- processing\n",
    "- output\n",
    "- storage (memory)"
   ]
  },
  {
   "cell_type": "markdown",
   "id": "812c00ea",
   "metadata": {},
   "source": [
    "## strings, assignments, and comments\n",
    "\n",
    "**data types** - consists of a set values and a set of operations that can be preformed on those values\n",
    "\n",
    "a **literal** - is the way a vaule of a data types looks to a programmer\n",
    "\n",
    "<table>\n",
    "    <tr>\n",
    "        <th>Type of data</th>\n",
    "        <th>python type name</th>\n",
    "        <th>example literals</th>\n",
    "    </tr>\n",
    "    <tr>\n",
    "        <td>Intergers</td>\n",
    "        <td>int</td>\n",
    "        <td>-1, 0, 1, 365, -1457324</td>\n",
    "    </tr>\n",
    "    <tr>\n",
    "        <td>Real numbers</td>\n",
    "        <td>float</td>\n",
    "        <td>-0.55, .33333, 3.14, 6.0, .5, 5.</td>\n",
    "    </tr>\n",
    "    <tr>\n",
    "        <td>charater strings</td>\n",
    "        <td>str</td>\n",
    "        <td>\"Hello\", '', \" \", 't', \"435\"</td>\n",
    "    </tr>\n",
    "</table>"
   ]
  },
  {
   "cell_type": "code",
   "execution_count": 1,
   "id": "0ff22e81",
   "metadata": {},
   "outputs": [
    {
     "name": "stdout",
     "output_type": "stream",
     "text": [
      "hello there!\n",
      "675\n"
     ]
    }
   ],
   "source": [
    "hello = 'hello there!'\n",
    "myInt = 675\n",
    "print(hello) # literal is: hello there!\n",
    "print(myInt) # literal is: 675\n"
   ]
  },
  {
   "cell_type": "markdown",
   "id": "bfd47ca5",
   "metadata": {},
   "source": [
    "## escape sequences\n",
    "\n",
    "**escape sequence** - the way python expresses specail charaters, such as the tab, new line, and backspace as literals\n",
    "\n",
    "<table>\n",
    "    <tr>\n",
    "        <th>escape sequence</th>\n",
    "        <th>meaning</th>\n",
    "    </tr>\n",
    "    <tr>\n",
    "        <td>\\b</td>\n",
    "        <td>backspace</td>\n",
    "    </tr>\n",
    "    <tr>\n",
    "        <td>\\n</td>\n",
    "        <td>newline</td>\n",
    "    </tr>\n",
    "    <tr>\n",
    "        <td>\\t</td>\n",
    "        <td>horizontal tab</td>\n",
    "    </tr>\n",
    "    <tr>\n",
    "        <td>\\\\</td>\n",
    "        <td>the \\</td>\n",
    "    </tr>\n",
    "    <tr>\n",
    "        <td>\\'</td>\n",
    "        <td>single quotation mark</td>\n",
    "    </tr>\n",
    "    <tr>\n",
    "        <td>\\\"</td>\n",
    "        <td>double quotation mark</td>\n",
    "    </tr>\n",
    "</table>"
   ]
  },
  {
   "cell_type": "code",
   "execution_count": null,
   "id": "acfe9f02",
   "metadata": {},
   "outputs": [],
   "source": []
  }
 ],
 "metadata": {
  "kernelspec": {
   "display_name": "Python 3",
   "language": "python",
   "name": "python3"
  },
  "language_info": {
   "codemirror_mode": {
    "name": "ipython",
    "version": 3
   },
   "file_extension": ".py",
   "mimetype": "text/x-python",
   "name": "python",
   "nbconvert_exporter": "python",
   "pygments_lexer": "ipython3",
   "version": "3.12.1"
  }
 },
 "nbformat": 4,
 "nbformat_minor": 5
}
