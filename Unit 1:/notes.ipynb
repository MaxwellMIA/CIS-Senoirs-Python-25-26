{
 "cells": [
  {
   "cell_type": "markdown",
   "id": "65411a5e",
   "metadata": {},
   "source": [
    "## Working with python variables"
   ]
  },
  {
   "cell_type": "markdown",
   "id": "b00ee7b8",
   "metadata": {},
   "source": [
    "structer of creating a var\n",
    "[var name] [assigment operator] [var value]\n",
    "myVar = \"value\"\n",
    "\n",
    "### What are the data types in python\n",
    "1. Integers - whole numbers\n",
    "2. Strings - anything inside \"\" ''\n",
    "3. Booleans - true false\n",
    "4. Floats - any number with decamal\n"
   ]
  },
  {
   "cell_type": "code",
   "execution_count": 2,
   "id": "298ed94d",
   "metadata": {},
   "outputs": [
    {
     "name": "stdout",
     "output_type": "stream",
     "text": [
      "3.9\n",
      "3.9\n"
     ]
    }
   ],
   "source": [
    "# Variable reassignment\n",
    "\n",
    "# a student GPA throught highschool\n",
    "student_gpa = 3.2 #freshmen year\n",
    "student_gpa = 3.4 #sophomre year\n",
    "student_gpa = 3.7 #junior year\n",
    "student_gpa = 3.9 #senior year\n",
    "print(student_gpa)\n",
    "#output 3.9\n",
    "\n",
    "#if you need to store all data\n",
    "student_gpa_fr = 3.2 #freshmen year\n",
    "student_gpa_so = 3.4 #sophomre year\n",
    "student_gpa_ju = 3.7 #junior year\n",
    "student_gpa_se = 3.9 #senior year\n",
    "print(student_gpa)"
   ]
  },
  {
   "cell_type": "code",
   "execution_count": 8,
   "id": "e75a384b",
   "metadata": {},
   "outputs": [
    {
     "name": "stdout",
     "output_type": "stream",
     "text": [
      "True\n"
     ]
    }
   ],
   "source": [
    "# sports team statistics\n",
    "\n",
    "# basketball team variables\n",
    "team_name = \"Riverside Ravens\"\n",
    "wins = 18\n",
    "loses = 7\n",
    "points_scored = 1456\n",
    "points_allowed = 1298\n",
    "leading_scorer = \"Jordan Thompson\"\n",
    "average_points_per_game = 58.2\n",
    "championship_contender = True\n",
    "print(championship_contender)"
   ]
  },
  {
   "cell_type": "code",
   "execution_count": 7,
   "id": "0e10986a",
   "metadata": {},
   "outputs": [],
   "source": [
    "# the imput function\n",
    "\n",
    "# input(\"Enter your first name: \")\n",
    "\n",
    "first_name = input(\"Enter your first name: \")"
   ]
  },
  {
   "cell_type": "markdown",
   "id": "c4ae0078",
   "metadata": {},
   "source": [
    "## 4 main computational process\n",
    "- input\n",
    "- processing\n",
    "- output\n",
    "- storage (memory)"
   ]
  },
  {
   "cell_type": "markdown",
   "id": "812c00ea",
   "metadata": {},
   "source": [
    "## strings, assignments, and comments\n",
    "\n",
    "**data types** - consists of a set values and a set of operations that can be preformed on those values\n",
    "\n",
    "a **literal** - is the way a vaule of a data types looks to a programmer\n",
    "\n",
    "<table>\n",
    "    <tr>\n",
    "        <th>Type of data</th>\n",
    "        <th>python type name</th>\n",
    "        <th>example literals</th>\n",
    "    </tr>\n",
    "    <tr>\n",
    "        <td>Intergers</td>\n",
    "        <td>int</td>\n",
    "        <td>-1, 0, 1, 365, -1457324</td>\n",
    "    </tr>\n",
    "    <tr>\n",
    "        <td>Real numbers</td>\n",
    "        <td>float</td>\n",
    "        <td>-0.55, .33333, 3.14, 6.0, .5, 5.</td>\n",
    "    </tr>\n",
    "    <tr>\n",
    "        <td>charater strings</td>\n",
    "        <td>str</td>\n",
    "        <td>\"Hello\", '', \" \", 't', \"435\"</td>\n",
    "    </tr>\n",
    "</table>"
   ]
  },
  {
   "cell_type": "code",
   "execution_count": 6,
   "id": "0ff22e81",
   "metadata": {},
   "outputs": [
    {
     "name": "stdout",
     "output_type": "stream",
     "text": [
      "hello there!\n",
      "675\n"
     ]
    }
   ],
   "source": [
    "hello = 'hello there!'\n",
    "myInt = 675\n",
    "print(hello) # literal is: hello there!\n",
    "print(myInt) # literal is: 675"
   ]
  },
  {
   "cell_type": "markdown",
   "id": "bfd47ca5",
   "metadata": {},
   "source": [
    "## escape sequences\n",
    "\n",
    "**escape sequence** - the way python expresses specail charaters, such as the tab, new line, and backspace as literals\n",
    "\n",
    "<table>\n",
    "    <tr>\n",
    "        <th>escape sequence</th>\n",
    "        <th>meaning</th>\n",
    "    </tr>\n",
    "    <tr>\n",
    "        <td>\\b</td>\n",
    "        <td>backspace</td>\n",
    "    </tr>\n",
    "    <tr>\n",
    "        <td>\\n</td>\n",
    "        <td>newline</td>\n",
    "    </tr>\n",
    "    <tr>\n",
    "        <td>\\t</td>\n",
    "        <td>horizontal tab</td>\n",
    "    </tr>\n",
    "    <tr>\n",
    "        <td>\\\\</td>\n",
    "        <td>the \\</td>\n",
    "    </tr>\n",
    "    <tr>\n",
    "        <td>\\'</td>\n",
    "        <td>single quotation mark</td>\n",
    "    </tr>\n",
    "    <tr>\n",
    "        <td>\\\"</td>\n",
    "        <td>double quotation mark</td>\n",
    "    </tr>\n",
    "</table>"
   ]
  },
  {
   "cell_type": "markdown",
   "id": "b9d69bc6",
   "metadata": {},
   "source": [
    "## initializing a varible or constant\n",
    "\n",
    "initializing - this is the process of creating a varible and setting it to a defeult vaule"
   ]
  },
  {
   "cell_type": "markdown",
   "id": "dde47793",
   "metadata": {},
   "source": [
    "## formating text for output\n",
    "\n",
    "- this process is for presenting required output in tabular format\n",
    "- **field width** - the total number of data charaters and additional spaces for a given dataum in a formated string\n",
    "- **%** = format oprartor \n",
    "- **%6s** - format string"
   ]
  },
  {
   "cell_type": "code",
   "execution_count": 5,
   "id": "32678d95",
   "metadata": {},
   "outputs": [
    {
     "name": "stdout",
     "output_type": "stream",
     "text": [
      "7 10000000\n",
      "8 100000000\n",
      "9 1000000000\n",
      "10 10000000000\n"
     ]
    }
   ],
   "source": [
    "for exponent in range(7,11):\n",
    "    print(exponent, 10 ** exponent)"
   ]
  },
  {
   "cell_type": "code",
   "execution_count": 4,
   "id": "e06758e3",
   "metadata": {},
   "outputs": [
    {
     "name": "stdout",
     "output_type": "stream",
     "text": [
      "four\n",
      "  four\n",
      "four  \n"
     ]
    }
   ],
   "source": [
    "print(\"four\")\n",
    "print(\"%6s\" % \"four\") #right justify\n",
    "print(\"%-6s\" % \"four\") #left justify"
   ]
  },
  {
   "cell_type": "markdown",
   "id": "5d7ec680",
   "metadata": {},
   "source": [
    "## Define iteration\n",
    "\n",
    "repeating an acton or process a predefined number of times. Also known as a specific type of iteration: **Definite Iteration**\n",
    "\n",
    "Perform an action or process until the program determines that it needs to stop: **Indefinite iteration**\n",
    "\n",
    "#### each of these iterations uses a differant type of loop\n",
    "\n",
    "defininte iteration --> for loop\n",
    "indefininte iteration --> while loop"
   ]
  },
  {
   "cell_type": "code",
   "execution_count": 3,
   "id": "2ac7007e",
   "metadata": {},
   "outputs": [
    {
     "name": "stdout",
     "output_type": "stream",
     "text": [
      "It's alive! It's alive! It's alive! It's alive! "
     ]
    }
   ],
   "source": [
    "# execute a statment a given number of time\n",
    "\n",
    "for eachPass in range(4): #iterate through the conained code 4 times\n",
    "    print(\"It's alive!\" , end = \" \")\n",
    "    #each time through loop, counting 0 - 3\n",
    "    #print It's alive! followed by a blank space"
   ]
  },
  {
   "cell_type": "markdown",
   "id": "8db4440c",
   "metadata": {},
   "source": [
    "## the strutcter of a for loop\n",
    "\n",
    "for (variable) in range(an int experssion):\n",
    "    <br>&nbsp;&nbsp;&nbsp;&nbsp;&nbsp;repeat any number of statments\n",
    "\n",
    "**loop header** - the line that starts with \"for\"\n",
    "**loop body** - compises the statments in the remaining lines of code, below the header"
   ]
  },
  {
   "cell_type": "markdown",
   "id": "7241c904",
   "metadata": {},
   "source": [
    "## pythons exponation operator"
   ]
  },
  {
   "cell_type": "code",
   "execution_count": 10,
   "id": "8e82a12b",
   "metadata": {},
   "outputs": [
    {
     "name": "stdout",
     "output_type": "stream",
     "text": [
      "\n",
      " The variable product is currently: 1\n",
      "2 4 8 \n",
      " The variable product is now: 8\n"
     ]
    }
   ],
   "source": [
    "# exponent exapmle\n",
    "\n",
    "number = 2\n",
    "exponent = 3\n",
    "product = 1\n",
    "\n",
    "print(\"\\n The variable product is currently:\" , product)\n",
    "\n",
    "for eachPass in range(exponent):\n",
    "    product = product * number\n",
    "    print(product, end = \" \")\n",
    "\n",
    "print(\"\\n The variable product is now:\" , product)"
   ]
  },
  {
   "cell_type": "markdown",
   "id": "40b00e64",
   "metadata": {},
   "source": [
    "## Count-controlled loops\n",
    "\n",
    "**count-controlled loops** - loops that count through a range of numbers"
   ]
  },
  {
   "cell_type": "code",
   "execution_count": 11,
   "id": "6267d754",
   "metadata": {},
   "outputs": [
    {
     "name": "stdout",
     "output_type": "stream",
     "text": [
      "0 1 2 3 "
     ]
    }
   ],
   "source": [
    "for count in range(4):\n",
    "    print(count, end=\" \")"
   ]
  },
  {
   "cell_type": "code",
   "execution_count": 13,
   "id": "05160ac2",
   "metadata": {},
   "outputs": [
    {
     "name": "stdout",
     "output_type": "stream",
     "text": [
      "1 2 6 24 24\n"
     ]
    }
   ],
   "source": [
    "product = 1 #initializing a counter\n",
    "for count in range (4):\n",
    "    product = product * (count + 1) # off by one error\n",
    "    print(product , end=\" \")\n",
    "\n",
    "print(product)"
   ]
  },
  {
   "cell_type": "markdown",
   "id": "f610a54e",
   "metadata": {},
   "source": [
    "## loop through a range of numbers"
   ]
  },
  {
   "cell_type": "code",
   "execution_count": null,
   "id": "a3fb243a",
   "metadata": {},
   "outputs": [
    {
     "name": "stdout",
     "output_type": "stream",
     "text": [
      "1 2 6 24 \n",
      "\n",
      " 24\n"
     ]
    }
   ],
   "source": [
    "product = 1\n",
    "for count in range(1, 5): #(1, 5) -  start on 1, 1 is the first number in the sequence\n",
    "                            # 5 is the first number NOT in the sequence\n",
    "    product = product * count\n",
    "    print(product , end=\" \")\n",
    "\n",
    "print(\"\\n\\n\" , product)"
   ]
  },
  {
   "cell_type": "markdown",
   "id": "1121d19b",
   "metadata": {},
   "source": [
    "## Loop head structer with lower and upper bounds\n",
    "for (varible) in range (lower bound, upper bound + 1):"
   ]
  },
  {
   "cell_type": "code",
   "execution_count": 21,
   "id": "df47f97b",
   "metadata": {},
   "outputs": [
    {
     "name": "stdout",
     "output_type": "stream",
     "text": [
      "12\n"
     ]
    }
   ],
   "source": [
    "lower = int(input(\"Enter the lower bound: \"))\n",
    "upper = int(input(\"Enter the upper bound: \"))\n",
    "\n",
    "theSum = 0 #noctie, we theSum because sum is a python keyword\n",
    "\n",
    "for number in range(lower, upper + 1):\n",
    "    theSum = theSum + number\n",
    "\n",
    "print(theSum)"
   ]
  },
  {
   "cell_type": "markdown",
   "id": "d23f8b77",
   "metadata": {},
   "source": [
    "## augmented assignment"
   ]
  },
  {
   "cell_type": "markdown",
   "id": "11ebb518",
   "metadata": {},
   "source": [
    "**augmented assignement** - when the assignment symbol (=) can be combined wiht the arithmentic and concatenation operators.\n",
    "\n",
    "structure: <br>\n",
    "(variable) (operator) = (expression)"
   ]
  },
  {
   "cell_type": "code",
   "execution_count": 25,
   "id": "696b7501",
   "metadata": {},
   "outputs": [
    {
     "name": "stdout",
     "output_type": "stream",
     "text": [
      "20\n",
      "60\n",
      "0\n"
     ]
    }
   ],
   "source": [
    "a = 17\n",
    "s = \"hi\"\n",
    "\n",
    "a += 3  #equivalent to a = a + 3\n",
    "print (a)\n",
    "\n",
    "a *= 3  #equivalent to a = a * 3\n",
    "print(a)\n",
    "\n",
    "a %= 3  #equivalent to a = a % 3\n",
    "print(a)"
   ]
  },
  {
   "cell_type": "code",
   "execution_count": 33,
   "id": "8c81e3bf",
   "metadata": {},
   "outputs": [
    {
     "name": "stdout",
     "output_type": "stream",
     "text": [
      "hi there there there there\n"
     ]
    }
   ],
   "source": [
    "s += \" there\" #equivalent to s = s + \" there\"\n",
    "print(s)"
   ]
  },
  {
   "cell_type": "markdown",
   "id": "7a531d9d",
   "metadata": {},
   "source": [
    "## loop errors: off by one error"
   ]
  },
  {
   "cell_type": "markdown",
   "id": "2306b2f2",
   "metadata": {},
   "source": [
    "**off by one error** - these are errors that result when the programmer incorrectly specifiecs the upper bound for a loop"
   ]
  },
  {
   "cell_type": "code",
   "execution_count": 29,
   "id": "eb9cdc1c",
   "metadata": {},
   "outputs": [
    {
     "name": "stdout",
     "output_type": "stream",
     "text": [
      "1\n",
      "2\n",
      "3\n",
      "4\n"
     ]
    }
   ],
   "source": [
    "# counts from 1 though 4, we think\n",
    "for count in range(1, 5):\n",
    "    print(count)"
   ]
  },
  {
   "cell_type": "markdown",
   "id": "166861f8",
   "metadata": {},
   "source": [
    "## traversing the contents of a data sequence"
   ]
  },
  {
   "cell_type": "code",
   "execution_count": null,
   "id": "54caa894",
   "metadata": {},
   "outputs": [
    {
     "name": "stdout",
     "output_type": "stream",
     "text": [
      "[0, 1, 2, 3]\n",
      "[1, 2, 3, 4]\n"
     ]
    }
   ],
   "source": [
    "print(list(range(4)))\n",
    "print(list(range(1, 5)))"
   ]
  },
  {
   "cell_type": "code",
   "execution_count": 36,
   "id": "357cd080",
   "metadata": {},
   "outputs": [
    {
     "name": "stdout",
     "output_type": "stream",
     "text": [
      "6 4 8 "
     ]
    }
   ],
   "source": [
    "# use something other then the range function in the loop head\n",
    "for number in [6, 4, 8]:\n",
    "    print(number, end=\" \")"
   ]
  },
  {
   "cell_type": "code",
   "execution_count": 37,
   "id": "a8e5b133",
   "metadata": {},
   "outputs": [
    {
     "name": "stdout",
     "output_type": "stream",
     "text": [
      "H i ,   t h e r e ! "
     ]
    }
   ],
   "source": [
    "for charater in \"Hi, there!\":\n",
    "    print(charater, end=\" \")"
   ]
  }
 ],
 "metadata": {
  "kernelspec": {
   "display_name": "Python 3",
   "language": "python",
   "name": "python3"
  },
  "language_info": {
   "codemirror_mode": {
    "name": "ipython",
    "version": 3
   },
   "file_extension": ".py",
   "mimetype": "text/x-python",
   "name": "python",
   "nbconvert_exporter": "python",
   "pygments_lexer": "ipython3",
   "version": "3.12.1"
  }
 },
 "nbformat": 4,
 "nbformat_minor": 5
}
