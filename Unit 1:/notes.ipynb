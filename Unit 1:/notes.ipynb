{
 "cells": [
  {
   "cell_type": "markdown",
   "id": "65411a5e",
   "metadata": {},
   "source": [
    "## Working with python variables"
   ]
  },
  {
   "cell_type": "markdown",
   "id": "b00ee7b8",
   "metadata": {},
   "source": [
    "structer of creating a var\n",
    "[var name] [assigment operator] [var value]\n",
    "myVar = \"value\"\n",
    "\n",
    "### What are the data types in python\n",
    "1. Integers - whole numbers\n",
    "2. Strings - anything inside \"\" ''\n",
    "3. Booleans - true false\n",
    "4. Floats - any number with decamal\n"
   ]
  },
  {
   "cell_type": "code",
   "execution_count": 2,
   "id": "298ed94d",
   "metadata": {},
   "outputs": [
    {
     "name": "stdout",
     "output_type": "stream",
     "text": [
      "3.9\n",
      "3.9\n"
     ]
    }
   ],
   "source": [
    "# Variable reassignment\n",
    "\n",
    "# a student GPA throught highschool\n",
    "student_gpa = 3.2 #freshmen year\n",
    "student_gpa = 3.4 #sophomre year\n",
    "student_gpa = 3.7 #junior year\n",
    "student_gpa = 3.9 #senior year\n",
    "print(student_gpa)\n",
    "#output 3.9\n",
    "\n",
    "#if you need to store all data\n",
    "student_gpa_fr = 3.2 #freshmen year\n",
    "student_gpa_so = 3.4 #sophomre year\n",
    "student_gpa_ju = 3.7 #junior year\n",
    "student_gpa_se = 3.9 #senior year\n",
    "print(student_gpa)"
   ]
  },
  {
   "cell_type": "code",
   "execution_count": 3,
   "id": "e75a384b",
   "metadata": {},
   "outputs": [
    {
     "name": "stdout",
     "output_type": "stream",
     "text": [
      "True\n"
     ]
    }
   ],
   "source": [
    "# sports team statistics\n",
    "\n",
    "# basketball team variables\n",
    "team_name = \"Riverside Ravens\"\n",
    "wins = 18\n",
    "loses = 7\n",
    "points_scored = 1456\n",
    "points_allowed = 1298\n",
    "leading_scorer = \"Jordan Thompson\"\n",
    "average_points_per_game = 58.2\n",
    "championship_contender = True\n",
    "print(championship_contender)"
   ]
  },
  {
   "cell_type": "code",
   "execution_count": null,
   "id": "0e10986a",
   "metadata": {},
   "outputs": [],
   "source": [
    "# the imput function\n",
    "\n",
    "# input(\"Enter your first name: \")\n",
    "\n",
    "first_name = input(\"Enter your first name: \")"
   ]
  }
 ],
 "metadata": {
  "kernelspec": {
   "display_name": "Python 3",
   "language": "python",
   "name": "python3"
  },
  "language_info": {
   "codemirror_mode": {
    "name": "ipython",
    "version": 3
   },
   "file_extension": ".py",
   "mimetype": "text/x-python",
   "name": "python",
   "nbconvert_exporter": "python",
   "pygments_lexer": "ipython3",
   "version": "3.12.1"
  }
 },
 "nbformat": 4,
 "nbformat_minor": 5
}
